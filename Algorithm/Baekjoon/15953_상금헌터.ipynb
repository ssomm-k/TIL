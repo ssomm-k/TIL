{
 "cells": [
  {
   "cell_type": "code",
   "execution_count": 1,
   "metadata": {},
   "outputs": [
    {
     "name": "stdout",
     "output_type": "stream",
     "text": [
      "1780000\n"
     ]
    }
   ],
   "source": [
    "prize_2017 , prize_2018 = map(int,input().split())\n",
    "\n",
    "imagin_2017 = 0\n",
    "imagin_2018 = 0\n",
    "\n",
    "if prize_2017 < 1:\n",
    "    imagin_2017 = 0\n",
    "elif prize_2017 <= 1:\n",
    "    imagin_2017 = 5000000\n",
    "elif prize_2017 <= 3:\n",
    "    imagin_2017 = 3000000\n",
    "elif prize_2017 <= 6:\n",
    "    imagin_2017 = 2000000\n",
    "elif prize_2017 <= 10:\n",
    "    imagin_2017 = 500000\n",
    "elif prize_2017 <= 15:\n",
    "    imagin_2017 = 300000\n",
    "elif prize_2017 <= 21:\n",
    "    imagin_2017 = 100000\n",
    "else : imagin_2017 = 0\n",
    "\n",
    "if prize_2018 < 1:\n",
    "    imagin_2018 = 0\n",
    "elif prize_2018 <= 1:\n",
    "    imagin_2018 = 5120000\n",
    "elif prize_2018 <= 3:\n",
    "    imagin_2018 = 2560000\n",
    "elif prize_2018 <= 7:\n",
    "    imagin_2018 = 1280000\n",
    "elif prize_2018<= 15:\n",
    "    imagin_2018 = 640000\n",
    "elif prize_2018 <= 31:\n",
    "    imagin_2018 = 320000\n",
    "else : imagin_2018 = 0\n",
    "\n",
    "print(imagin_2017+imagin_2018)"
   ]
  },
  {
   "cell_type": "code",
   "execution_count": 2,
   "metadata": {},
   "outputs": [
    {
     "name": "stdout",
     "output_type": "stream",
     "text": [
      "1780000\n",
      "620000\n",
      "1140000\n",
      "420000\n",
      "820000\n",
      "620000\n"
     ]
    }
   ],
   "source": [
    "T = int(input())\n",
    "i = 1\n",
    "while i <= T:\n",
    "    prize_2017 , prize_2018 = map(int,input().split())\n",
    "\n",
    "    imagin_2017 = 0\n",
    "    imagin_2018 = 0\n",
    "\n",
    "    if prize_2017 < 1:\n",
    "        imagin_2017 = 0\n",
    "    elif prize_2017 <= 1:\n",
    "        imagin_2017 = 5000000\n",
    "    elif prize_2017 <= 3:\n",
    "        imagin_2017 = 3000000\n",
    "    elif prize_2017 <= 6:\n",
    "        imagin_2017 = 2000000\n",
    "    elif prize_2017 <= 10:\n",
    "        imagin_2017 = 500000\n",
    "    elif prize_2017 <= 15:\n",
    "        imagin_2017 = 300000\n",
    "    elif prize_2017 <= 21:\n",
    "        imagin_2017 = 100000\n",
    "    else : imagin_2017 = 0\n",
    "\n",
    "    if prize_2018 < 1:\n",
    "        imagin_2018 = 0\n",
    "    elif prize_2018 <= 1:\n",
    "        imagin_2018 = 5120000\n",
    "    elif prize_2018 <= 3:\n",
    "        imagin_2018 = 2560000\n",
    "    elif prize_2018 <= 7:\n",
    "        imagin_2018 = 1280000\n",
    "    elif prize_2018<= 15:\n",
    "        imagin_2018 = 640000\n",
    "    elif prize_2018 <= 31:\n",
    "        imagin_2018 = 320000\n",
    "    else : imagin_2018 = 0\n",
    "\n",
    "    print(imagin_2017+imagin_2018)\n",
    "    i += 1"
   ]
  }
 ],
 "metadata": {
  "interpreter": {
   "hash": "d2d289a5cba81d2d49c78b4d3527a0c0f9c280771a197440df49b1bcccb52720"
  },
  "kernelspec": {
   "display_name": "Python 3.9.9 64-bit",
   "language": "python",
   "name": "python3"
  },
  "language_info": {
   "codemirror_mode": {
    "name": "ipython",
    "version": 3
   },
   "file_extension": ".py",
   "mimetype": "text/x-python",
   "name": "python",
   "nbconvert_exporter": "python",
   "pygments_lexer": "ipython3",
   "version": "3.9.9"
  },
  "orig_nbformat": 4
 },
 "nbformat": 4,
 "nbformat_minor": 2
}
