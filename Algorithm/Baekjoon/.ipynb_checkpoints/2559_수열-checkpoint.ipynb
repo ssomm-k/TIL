{
 "cells": [
  {
   "cell_type": "code",
   "execution_count": 12,
   "metadata": {},
   "outputs": [
    {
     "name": "stdout",
     "output_type": "stream",
     "text": [
      "31\n"
     ]
    }
   ],
   "source": [
    "#연습코드\n",
    "import sys\n",
    "input = sys.stdin.readline\n",
    "\n",
    "day , sum_day = map(int,input().split())\n",
    "\n",
    "temps = []\n",
    "input_i = 1\n",
    "while input_i <= day:\n",
    "    day_temp = int(input())\n",
    "    temps.append(day_temp)\n",
    "    input_i += 1\n",
    "\n",
    "i = 0\n",
    "sum_temp = []\n",
    "while i <= (day-sum_day):\n",
    "    sum_temp.append(sum(temps[i:i+sum_day]))\n",
    "    i += 1\n",
    "print(max(sum_temp))"
   ]
  },
  {
   "cell_type": "code",
   "execution_count": 2,
   "metadata": {},
   "outputs": [
    {
     "name": "stdout",
     "output_type": "stream",
     "text": [
      "31\n"
     ]
    }
   ],
   "source": [
    "#연습코드\n",
    "day , sum_day = map(int,input().split())\n",
    "\n",
    "temps = []\n",
    "input_i = 1\n",
    "while input_i <= day:\n",
    "    day_temp = int(input())\n",
    "    temps.append(day_temp)\n",
    "    input_i += 1\n",
    "\n",
    "sum_temp = []\n",
    "for i in range(day-sum_day):\n",
    "    sum_temp.append(sum(temps[i:i+sum_day]))\n",
    "print(max(sum_temp))"
   ]
  },
  {
   "cell_type": "code",
   "execution_count": 4,
   "metadata": {
    "scrolled": true
   },
   "outputs": [
    {
     "ename": "ValueError",
     "evalue": "not enough values to unpack (expected 2, got 0)",
     "output_type": "error",
     "traceback": [
      "\u001b[1;31m---------------------------------------------------------------------------\u001b[0m",
      "\u001b[1;31mValueError\u001b[0m                                Traceback (most recent call last)",
      "Input \u001b[1;32mIn [4]\u001b[0m, in \u001b[0;36m<module>\u001b[1;34m\u001b[0m\n\u001b[0;32m      1\u001b[0m \u001b[38;5;66;03m#연습코드\u001b[39;00m\n\u001b[1;32m----> 3\u001b[0m day , sum_day \u001b[38;5;241m=\u001b[39m \u001b[38;5;28mmap\u001b[39m(\u001b[38;5;28mint\u001b[39m,\u001b[38;5;28minput\u001b[39m()\u001b[38;5;241m.\u001b[39msplit())\n\u001b[0;32m      5\u001b[0m temps \u001b[38;5;241m=\u001b[39m \u001b[38;5;28mlist\u001b[39m(\u001b[38;5;28mmap\u001b[39m(\u001b[38;5;28mint\u001b[39m,\u001b[38;5;28minput\u001b[39m()\u001b[38;5;241m.\u001b[39msplit()))\n\u001b[0;32m      7\u001b[0m sum_temp \u001b[38;5;241m=\u001b[39m []\n",
      "\u001b[1;31mValueError\u001b[0m: not enough values to unpack (expected 2, got 0)"
     ]
    }
   ],
   "source": [
    "#연습코드\n",
    "\n",
    "day , sum_day = map(int,input().split())\n",
    "\n",
    "temps = list(map(int,input().split()))\n",
    "\n",
    "sum_temp = []\n",
    "for i in range(day-sum_day+1):\n",
    "    sum_temp.append(sum(temps[i:i+sum_day]))\n",
    "print(max(sum_temp))"
   ]
  },
  {
   "cell_type": "code",
   "execution_count": 2,
   "metadata": {},
   "outputs": [
    {
     "name": "stdout",
     "output_type": "stream",
     "text": [
      "10 2\n",
      "3 -2 -4 -9 0 3 7 13 8 -3\n",
      "21\n"
     ]
    }
   ],
   "source": [
    "#연습코드\n",
    "day , sum_day = map(int,input().split())\n",
    "\n",
    "temps = list(map(int,input().split()))\n",
    "\n",
    "temp_sum_day_list = [sum(temps[:sum_day])]\n",
    "\n",
    "for i in range(1,day-sum_day+1):\n",
    "    sum_temp = temp_sum_day_list[-1]+temps[i+sum_day-1] - temps[i-1]\n",
    "    temp_sum_day_list.append(sum_temp)\n",
    "print(max(temp_sum_day_list))"
   ]
  },
  {
   "cell_type": "code",
   "execution_count": 7,
   "metadata": {},
   "outputs": [
    {
     "name": "stdout",
     "output_type": "stream",
     "text": [
      "[1, -6, 21]\n"
     ]
    }
   ],
   "source": [
    "#연습코드\n",
    "day , sum_day = map(int,input().split())\n",
    "\n",
    "temps = list(map(int,input().split()))\n",
    "\n",
    "sum_temp = []\n",
    "for i in range(day-sum_day):\n",
    "    sum_temp.append(sum(temps[i:i+sum_day]))\n",
    "    if sum_temp[0]\n",
    "print(sum_temp)\n",
    "    "
   ]
  },
  {
   "cell_type": "code",
   "execution_count": 2,
   "metadata": {},
   "outputs": [
    {
     "name": "stdout",
     "output_type": "stream",
     "text": [
      "[1, -6, -13, -9, 3, 10, 20, 21, 5]\n"
     ]
    }
   ],
   "source": [
    "#연습코드\n",
    "day , sum_day = map(int,input().split())\n",
    "\n",
    "temps = list(map(int,input().split()))\n",
    "\n",
    "i = 0\n",
    "sum_temp = []\n",
    "while i <= (day-sum_day):\n",
    "    sum_temp.append(sum(temps[i:i+sum_day]))\n",
    "    i += 1\n",
    "print(max(sum_temp))"
   ]
  },
  {
   "cell_type": "code",
   "execution_count": 10,
   "metadata": {},
   "outputs": [
    {
     "name": "stdout",
     "output_type": "stream",
     "text": [
      "21\n"
     ]
    }
   ],
   "source": [
    "#연습코드\n",
    "temps = [3 ,-2 ,-4 ,-9, 0 ,3 ,7 ,13 ,8 ,-3]\n",
    "\n",
    "day,sum_day = 10,2\n",
    "\n",
    "\n",
    "i = 0\n",
    "sum_temp = []\n",
    "while i <= (day-sum_day):\n",
    "    sum_temp.append(sum(temps[i:i+sum_day]))\n",
    "    i += 1\n",
    "print(max(sum_temp))"
   ]
  },
  {
   "cell_type": "code",
   "execution_count": null,
   "metadata": {},
   "outputs": [],
   "source": [
    "#정답코드\n",
    "\n",
    "import sys\n",
    "input = sys.stdin.readline\n",
    "\n",
    "day , sum_day = map(int,input().split())\n",
    "\n",
    "temps = list(map(int,input().split()))\n",
    "\n",
    "temp_sum_day_list = [sum(temps[:sum_day])]\n",
    "\n",
    "for i in range(1,day-sum_day+1):\n",
    "    sum_temp = temp_sum_day_list[-1]+temps[i+sum_day-1] - temps[i-1]\n",
    "    temp_sum_day_list.append(sum_temp)\n",
    "print(max(temp_sum_day_list))"
   ]
  }
 ],
 "metadata": {
  "interpreter": {
   "hash": "d2d289a5cba81d2d49c78b4d3527a0c0f9c280771a197440df49b1bcccb52720"
  },
  "kernelspec": {
   "display_name": "Python 3 (ipykernel)",
   "language": "python",
   "name": "python3"
  },
  "language_info": {
   "codemirror_mode": {
    "name": "ipython",
    "version": 3
   },
   "file_extension": ".py",
   "mimetype": "text/x-python",
   "name": "python",
   "nbconvert_exporter": "python",
   "pygments_lexer": "ipython3",
   "version": "3.9.9"
  },
  "toc": {
   "base_numbering": 1,
   "nav_menu": {},
   "number_sections": true,
   "sideBar": true,
   "skip_h1_title": false,
   "title_cell": "Table of Contents",
   "title_sidebar": "Contents",
   "toc_cell": false,
   "toc_position": {},
   "toc_section_display": true,
   "toc_window_display": false
  }
 },
 "nbformat": 4,
 "nbformat_minor": 2
}
