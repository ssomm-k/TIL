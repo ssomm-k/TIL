{
 "cells": [
  {
   "cell_type": "code",
   "execution_count": 5,
   "id": "ee0f5c30",
   "metadata": {},
   "outputs": [
    {
     "name": "stdout",
     "output_type": "stream",
     "text": [
      "100 50\n",
      "48\n"
     ]
    }
   ],
   "source": [
    "N,M = map(int,input().split())\n",
    "\n",
    "if N == 1:\n",
    "    print(1)\n",
    "elif N == 2 :\n",
    "    print(min(4,(M+1)//2))\n",
    "else :\n",
    "    if M <= 6 :\n",
    "        print(min(4,M))\n",
    "    else : \n",
    "        print(M-2)"
   ]
  },
  {
   "cell_type": "code",
   "execution_count": 9,
   "id": "195c7350",
   "metadata": {},
   "outputs": [
    {
     "name": "stdout",
     "output_type": "stream",
     "text": [
      "2 19\n",
      "4\n"
     ]
    }
   ],
   "source": [
    "N,M = map(int,input().split())\n",
    "\n",
    "if N == 1:\n",
    "    print(1)\n",
    "elif N == 2 :\n",
    "    if M <= 7:\n",
    "        print((M+1)//2)\n",
    "    else :\n",
    "        print(4)\n",
    "else :\n",
    "    if M <= 4 :\n",
    "        print(M)\n",
    "    elif M<=6:\n",
    "        print(4)\n",
    "    else : \n",
    "        print(M-2)"
   ]
  },
  {
   "cell_type": "code",
   "execution_count": null,
   "id": "35449d67",
   "metadata": {},
   "outputs": [],
   "source": []
  }
 ],
 "metadata": {
  "kernelspec": {
   "display_name": "Python 3 (ipykernel)",
   "language": "python",
   "name": "python3"
  },
  "language_info": {
   "codemirror_mode": {
    "name": "ipython",
    "version": 3
   },
   "file_extension": ".py",
   "mimetype": "text/x-python",
   "name": "python",
   "nbconvert_exporter": "python",
   "pygments_lexer": "ipython3",
   "version": "3.9.9"
  },
  "toc": {
   "base_numbering": 1,
   "nav_menu": {},
   "number_sections": true,
   "sideBar": true,
   "skip_h1_title": false,
   "title_cell": "Table of Contents",
   "title_sidebar": "Contents",
   "toc_cell": false,
   "toc_position": {},
   "toc_section_display": true,
   "toc_window_display": false
  }
 },
 "nbformat": 4,
 "nbformat_minor": 5
}
