{
 "cells": [
  {
   "cell_type": "code",
   "execution_count": 7,
   "metadata": {},
   "outputs": [
    {
     "name": "stdout",
     "output_type": "stream",
     "text": [
      "[[(1, 1), 3], [(1, 2), 1], [(0, 3), 1], [(0, 2), 1]]\n",
      "5\n"
     ]
    }
   ],
   "source": [
    "N = 5\n",
    "K = 2\n",
    "a = [(1,1),(1,1),(1,1),(1,2),(0,2),(0,3)]\n",
    "b = set(a)\n",
    "c = []\n",
    "\n",
    "for i in b :\n",
    "    c.append([i,a.count(i)])\n",
    "\n",
    "print(c)\n",
    "\n",
    "d = 0\n",
    "for j in c :\n",
    "    if j[1]%K == 0 :\n",
    "        d += j[1]//K\n",
    "    else : d += (1+j[1]//K)\n",
    "\n",
    "print(d)"
   ]
  }
 ],
 "metadata": {
  "interpreter": {
   "hash": "d2d289a5cba81d2d49c78b4d3527a0c0f9c280771a197440df49b1bcccb52720"
  },
  "kernelspec": {
   "display_name": "Python 3.9.9 64-bit",
   "language": "python",
   "name": "python3"
  },
  "language_info": {
   "codemirror_mode": {
    "name": "ipython",
    "version": 3
   },
   "file_extension": ".py",
   "mimetype": "text/x-python",
   "name": "python",
   "nbconvert_exporter": "python",
   "pygments_lexer": "ipython3",
   "version": "3.9.9"
  },
  "orig_nbformat": 4
 },
 "nbformat": 4,
 "nbformat_minor": 2
}
