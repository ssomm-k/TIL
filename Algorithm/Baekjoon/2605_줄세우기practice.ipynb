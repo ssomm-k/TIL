{
 "cells": [
  {
   "cell_type": "code",
   "execution_count": 6,
   "metadata": {},
   "outputs": [
    {
     "name": "stdout",
     "output_type": "stream",
     "text": [
      "[1, 2, 3, 4, 5]\n"
     ]
    }
   ],
   "source": [
    "a = list(range(1,6))\n",
    "print(a)"
   ]
  },
  {
   "cell_type": "code",
   "execution_count": 7,
   "metadata": {},
   "outputs": [],
   "source": [
    "b = a.pop(3)"
   ]
  },
  {
   "cell_type": "code",
   "execution_count": 10,
   "metadata": {},
   "outputs": [],
   "source": [
    "a.insert(0,b)"
   ]
  },
  {
   "cell_type": "code",
   "execution_count": 11,
   "metadata": {},
   "outputs": [
    {
     "name": "stdout",
     "output_type": "stream",
     "text": [
      "[4, 1, 2, 3, 5]\n"
     ]
    }
   ],
   "source": [
    "print(a)"
   ]
  },
  {
   "cell_type": "code",
   "execution_count": 12,
   "metadata": {},
   "outputs": [
    {
     "name": "stdout",
     "output_type": "stream",
     "text": [
      "[4, 2, 5, 3, 1]\n"
     ]
    }
   ],
   "source": [
    "students = int(input())\n",
    "\n",
    "random_num = list(map(int,input().split()))\n",
    "\n",
    "student_num = []\n",
    "for i in range(students):\n",
    "    if random_num[i] > 0 :\n",
    "        student_num.insert(i-random_num[i],i+1)\n",
    "    else :\n",
    "        student_num.append(i+1)\n",
    "\n",
    "#연습코드 1\n",
    "# 아래코드로 돌리면 4번째에서 원하는 결과랑 다르게 나옴\n",
    "# student_num = list(range(1,students+1))\n",
    "# for i in student_num:\n",
    "#     if random_num[i-1] > 0:\n",
    "#         student_num[i-1] = student_num[i-(random_num[i-1])-1]\n",
    "#         student_num[i-(random_num[i-1])-1] = i\n",
    "\n",
    "print(student_num)"
   ]
  }
 ],
 "metadata": {
  "interpreter": {
   "hash": "d2d289a5cba81d2d49c78b4d3527a0c0f9c280771a197440df49b1bcccb52720"
  },
  "kernelspec": {
   "display_name": "Python 3.9.9 64-bit",
   "language": "python",
   "name": "python3"
  },
  "language_info": {
   "codemirror_mode": {
    "name": "ipython",
    "version": 3
   },
   "file_extension": ".py",
   "mimetype": "text/x-python",
   "name": "python",
   "nbconvert_exporter": "python",
   "pygments_lexer": "ipython3",
   "version": "3.9.9"
  },
  "orig_nbformat": 4
 },
 "nbformat": 4,
 "nbformat_minor": 2
}
