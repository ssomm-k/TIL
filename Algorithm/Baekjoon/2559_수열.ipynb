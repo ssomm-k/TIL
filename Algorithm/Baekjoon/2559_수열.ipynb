{
 "cells": [
  {
   "cell_type": "code",
   "execution_count": 12,
   "metadata": {},
   "outputs": [
    {
     "name": "stdout",
     "output_type": "stream",
     "text": [
      "31\n"
     ]
    }
   ],
   "source": [
    "day , sum_day = map(int,input().split())\n",
    "\n",
    "temps = []\n",
    "input_i = 1\n",
    "while input_i <= day:\n",
    "    day_temp = int(input())\n",
    "    temps.append(day_temp)\n",
    "    input_i += 1\n",
    "\n",
    "i = 0\n",
    "sum_temp = []\n",
    "while i <= (day-sum_day):\n",
    "    sum_temp.append(sum(temps[i:i+sum_day]))\n",
    "    i += 1\n",
    "print(max(sum_temp))"
   ]
  },
  {
   "cell_type": "code",
   "execution_count": 10,
   "metadata": {},
   "outputs": [
    {
     "name": "stdout",
     "output_type": "stream",
     "text": [
      "21\n"
     ]
    }
   ],
   "source": [
    "temps = [3 ,-2 ,-4 ,-9, 0 ,3 ,7 ,13 ,8 ,-3]\n",
    "\n",
    "day,sum_day = 10,2\n",
    "\n",
    "\n",
    "i = 0\n",
    "sum_temp = []\n",
    "while i <= (day-sum_day):\n",
    "    sum_temp.append(sum(temps[i:i+sum_day]))\n",
    "    i += 1\n",
    "print(max(sum_temp))"
   ]
  }
 ],
 "metadata": {
  "interpreter": {
   "hash": "d2d289a5cba81d2d49c78b4d3527a0c0f9c280771a197440df49b1bcccb52720"
  },
  "kernelspec": {
   "display_name": "Python 3.9.9 64-bit",
   "language": "python",
   "name": "python3"
  },
  "language_info": {
   "codemirror_mode": {
    "name": "ipython",
    "version": 3
   },
   "file_extension": ".py",
   "mimetype": "text/x-python",
   "name": "python",
   "nbconvert_exporter": "python",
   "pygments_lexer": "ipython3",
   "version": "3.9.9"
  },
  "orig_nbformat": 4
 },
 "nbformat": 4,
 "nbformat_minor": 2
}
