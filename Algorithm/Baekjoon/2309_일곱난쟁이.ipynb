{
 "cells": [
  {
   "cell_type": "code",
   "execution_count": null,
   "metadata": {},
   "outputs": [],
   "source": [
    "nanjangee = []\n",
    "for i in range(9):\n",
    "    nan = int(input())\n",
    "    nanjangee.append(nan)\n"
   ]
  },
  {
   "cell_type": "code",
   "execution_count": null,
   "metadata": {},
   "outputs": [],
   "source": [
    "for i1 in nanjangee:\n",
    "    for i2 in nanjangee:\n",
    "        if i2 != i1:\n",
    "            for i3 in nanjangee:\n",
    "                if i3 != i1 and i3 != i2 :\n",
    "                    for i4 in nanjangee:\n",
    "                        if i4 != i1 and i4 != i2 and i4 != i3:\n",
    "                            for i5 in nanjangee:\n",
    "                                if i5 != i1 and i5 != i2 and i5 != i3 and i5 != i4:\n",
    "                                    for i6 in nanjangee:\n",
    "                                        if i6 != i1 and i6 != i2 and i6 != i3 and i6 != i4 and i6 != i5:\n",
    "                                            for i7 in nanjangee:\n",
    "                                                if i7 != i1 and i7 != i2 and i7 != i3 and i7 != i4 and i7 != i5 and i7 != i6:\n",
    "                                                    for i8 in nanjangee:\n",
    "                                                        if i8 != i1 and i8 != i2 and i8 != i3 and i8 != i4 and i8 != i5 and i8 != i6 and i8 != i7:\n",
    "                                                            for i9 in nanjangee:\n",
    "                                                                if i9 != i1 and i9 != i2 and i9 != i3 and i9 != i4 and i9 != i5 and i9 != i6 and i9 != i7 and i9 != i8:\n",
    "                                                                    # if sum(i1+i2+i3+i4+i5+i6+i7) == 100 :\n",
    "                                                                    #     print(sorted(i1,i2,i3,i4,i5,i6,i7))\n",
    "                                                                    print(i1,i2,i3,i4,i5,i6,i7)\n"
   ]
  },
  {
   "cell_type": "code",
   "execution_count": 4,
   "metadata": {},
   "outputs": [
    {
     "name": "stdout",
     "output_type": "stream",
     "text": [
      "[20, 23, 19, 10, 15, 25, 8, 13, 7] 120\n"
     ]
    }
   ],
   "source": [
    "nan = [20, 7, 23, 19, 10, 15, 25, 8, 13]\n",
    "a = nan.pop(1)\n",
    "nan.insert(8,a)\n",
    "print(nan,sum(nan[0:7]))"
   ]
  },
  {
   "cell_type": "code",
   "execution_count": 4,
   "metadata": {},
   "outputs": [
    {
     "name": "stdout",
     "output_type": "stream",
     "text": [
      "7\n",
      "8\n",
      "10\n",
      "13\n",
      "19\n",
      "20\n",
      "23\n"
     ]
    }
   ],
   "source": [
    "nan = [20, 7, 23, 19, 10, 15, 25, 8, 13]\n",
    "n = len(nan)\n",
    "\n",
    "find_nan = []\n",
    "for i in range(1<<n):\n",
    "    tmp_set = []\n",
    "    find_nan_sum = 0\n",
    "    for j in range(n):\n",
    "        if i & (1<<j):\n",
    "            tmp_set.append(nan[j])\n",
    "            find_nan_sum += nan[j]\n",
    "    if len(tmp_set) == 7 and sum(tmp_set) == 100 :\n",
    "        find_nan.append(tmp_set)\n",
    "find_nan[0].sort()\n",
    "for nanjang in find_nan[0]:\n",
    "    print(nanjang)"
   ]
  },
  {
   "cell_type": "code",
   "execution_count": 5,
   "metadata": {},
   "outputs": [
    {
     "ename": "TypeError",
     "evalue": "'int' object is not subscriptable",
     "output_type": "error",
     "traceback": [
      "\u001b[1;31m---------------------------------------------------------------------------\u001b[0m",
      "\u001b[1;31mTypeError\u001b[0m                                 Traceback (most recent call last)",
      "\u001b[1;32mc:\\Users\\DASOM\\Github\\TIL\\Algorithm\\Baekjoon\\2309_일곱난쟁이.ipynb Cell 5'\u001b[0m in \u001b[0;36m<module>\u001b[1;34m\u001b[0m\n\u001b[0;32m     <a href='vscode-notebook-cell:/c%3A/Users/DASOM/Github/TIL/Algorithm/Baekjoon/2309_%EC%9D%BC%EA%B3%B1%EB%82%9C%EC%9F%81%EC%9D%B4.ipynb#ch0000004?line=10'>11</a>\u001b[0m \u001b[39mfor\u001b[39;00m j \u001b[39min\u001b[39;00m \u001b[39mrange\u001b[39m(n):\n\u001b[0;32m     <a href='vscode-notebook-cell:/c%3A/Users/DASOM/Github/TIL/Algorithm/Baekjoon/2309_%EC%9D%BC%EA%B3%B1%EB%82%9C%EC%9F%81%EC%9D%B4.ipynb#ch0000004?line=11'>12</a>\u001b[0m     \u001b[39mif\u001b[39;00m i \u001b[39m&\u001b[39m (\u001b[39m1\u001b[39m\u001b[39m<<\u001b[39mj):\n\u001b[1;32m---> <a href='vscode-notebook-cell:/c%3A/Users/DASOM/Github/TIL/Algorithm/Baekjoon/2309_%EC%9D%BC%EA%B3%B1%EB%82%9C%EC%9F%81%EC%9D%B4.ipynb#ch0000004?line=12'>13</a>\u001b[0m         tmp_set\u001b[39m.\u001b[39mappend(nan[j])\n\u001b[0;32m     <a href='vscode-notebook-cell:/c%3A/Users/DASOM/Github/TIL/Algorithm/Baekjoon/2309_%EC%9D%BC%EA%B3%B1%EB%82%9C%EC%9F%81%EC%9D%B4.ipynb#ch0000004?line=13'>14</a>\u001b[0m         find_nan_sum \u001b[39m+\u001b[39m\u001b[39m=\u001b[39m nan[j]\n\u001b[0;32m     <a href='vscode-notebook-cell:/c%3A/Users/DASOM/Github/TIL/Algorithm/Baekjoon/2309_%EC%9D%BC%EA%B3%B1%EB%82%9C%EC%9F%81%EC%9D%B4.ipynb#ch0000004?line=14'>15</a>\u001b[0m \u001b[39mif\u001b[39;00m \u001b[39mlen\u001b[39m(tmp_set) \u001b[39m==\u001b[39m \u001b[39m7\u001b[39m \u001b[39mand\u001b[39;00m \u001b[39msum\u001b[39m(tmp_set) \u001b[39m==\u001b[39m \u001b[39m100\u001b[39m :\n",
      "\u001b[1;31mTypeError\u001b[0m: 'int' object is not subscriptable"
     ]
    }
   ],
   "source": [
    "nanjangee = []\n",
    "for i in range(9):\n",
    "    nan = int(input())\n",
    "    nanjangee.append(nan)\n",
    "n = len(nanjangee)\n",
    "\n",
    "find_nan = []\n",
    "for i in range(1<<n):\n",
    "    tmp_set = []\n",
    "    find_nan_sum = 0\n",
    "    for j in range(n):\n",
    "        if i & (1<<j):\n",
    "            tmp_set.append(nan[j])\n",
    "            find_nan_sum += nan[j]\n",
    "    if len(tmp_set) == 7 and sum(tmp_set) == 100 :\n",
    "        find_nan.append(tmp_set)\n",
    "find_nan[0].sort()\n",
    "for nanjang in find_nan[0]:\n",
    "    print(nanjang)"
   ]
  }
 ],
 "metadata": {
  "interpreter": {
   "hash": "d2d289a5cba81d2d49c78b4d3527a0c0f9c280771a197440df49b1bcccb52720"
  },
  "kernelspec": {
   "display_name": "Python 3.9.9 64-bit",
   "language": "python",
   "name": "python3"
  },
  "language_info": {
   "codemirror_mode": {
    "name": "ipython",
    "version": 3
   },
   "file_extension": ".py",
   "mimetype": "text/x-python",
   "name": "python",
   "nbconvert_exporter": "python",
   "pygments_lexer": "ipython3",
   "version": "3.9.9"
  },
  "orig_nbformat": 4
 },
 "nbformat": 4,
 "nbformat_minor": 2
}
