{
 "cells": [
  {
   "cell_type": "code",
   "execution_count": null,
   "metadata": {},
   "outputs": [],
   "source": [
    "nanjangee = []\n",
    "for i in range(9):\n",
    "    nan = int(input())\n",
    "    nanjangee.append(nan)\n"
   ]
  },
  {
   "cell_type": "code",
   "execution_count": null,
   "metadata": {},
   "outputs": [],
   "source": [
    "for i1 in nanjangee:\n",
    "    for i2 in nanjangee:\n",
    "        if i2 != i1:\n",
    "            for i3 in nanjangee:\n",
    "                if i3 != i1 and i3 != i2 :\n",
    "                    for i4 in nanjangee:\n",
    "                        if i4 != i1 and i4 != i2 and i4 != i3:\n",
    "                            for i5 in nanjangee:\n",
    "                                if i5 != i1 and i5 != i2 and i5 != i3 and i5 != i4:\n",
    "                                    for i6 in nanjangee:\n",
    "                                        if i6 != i1 and i6 != i2 and i6 != i3 and i6 != i4 and i6 != i5:\n",
    "                                            for i7 in nanjangee:\n",
    "                                                if i7 != i1 and i7 != i2 and i7 != i3 and i7 != i4 and i7 != i5 and i7 != i6:\n",
    "                                                    for i8 in nanjangee:\n",
    "                                                        if i8 != i1 and i8 != i2 and i8 != i3 and i8 != i4 and i8 != i5 and i8 != i6 and i8 != i7:\n",
    "                                                            for i9 in nanjangee:\n",
    "                                                                if i9 != i1 and i9 != i2 and i9 != i3 and i9 != i4 and i9 != i5 and i9 != i6 and i9 != i7 and i9 != i8:\n",
    "                                                                    # if sum(i1+i2+i3+i4+i5+i6+i7) == 100 :\n",
    "                                                                    #     print(sorted(i1,i2,i3,i4,i5,i6,i7))\n",
    "                                                                    print(i1,i2,i3,i4,i5,i6,i7)\n"
   ]
  },
  {
   "cell_type": "code",
   "execution_count": null,
   "metadata": {},
   "outputs": [],
   "source": []
  }
 ],
 "metadata": {
  "language_info": {
   "name": "python"
  },
  "orig_nbformat": 4
 },
 "nbformat": 4,
 "nbformat_minor": 2
}
