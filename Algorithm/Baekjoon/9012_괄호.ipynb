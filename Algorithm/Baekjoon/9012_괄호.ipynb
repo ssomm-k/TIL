{
 "cells": [
  {
   "cell_type": "code",
   "execution_count": 7,
   "metadata": {},
   "outputs": [
    {
     "name": "stdout",
     "output_type": "stream",
     "text": [
      "NO\n"
     ]
    }
   ],
   "source": [
    "a = '(())())'\n",
    "b = list(set(a))\n",
    "\n",
    "if a.count(b[0]) == a.count(b[1]):\n",
    "    print('YES')\n",
    "else : print('NO')\n",
    "\n",
    "\n"
   ]
  },
  {
   "cell_type": "code",
   "execution_count": 19,
   "metadata": {},
   "outputs": [
    {
     "name": "stdout",
     "output_type": "stream",
     "text": [
      "[]\n",
      "YES\n"
     ]
    }
   ],
   "source": [
    "Vps = '))'\n",
    "\n",
    "if len(Vps) % 2 :\n",
    "    print(len(Vps))\n",
    "    print('NO')\n",
    "else:\n",
    "    stack_list = []\n",
    "    for j in Vps:\n",
    "        if j == '(':\n",
    "            stack_list.append(j)\n",
    "        else:\n",
    "            if len(stack_list) >= 1 :\n",
    "                stack_list.pop()\n",
    "                print(stack_list)\n",
    "            else : \n",
    "                stack_list.append(j)\n",
    "    if len(stack_list) != 0 :\n",
    "        print('NO')\n",
    "    elif ')' in stack_list :\n",
    "        print('NO')\n",
    "    else : print('YES')"
   ]
  },
  {
   "cell_type": "code",
   "execution_count": 29,
   "metadata": {},
   "outputs": [
    {
     "name": "stdout",
     "output_type": "stream",
     "text": [
      "NO\n"
     ]
    }
   ],
   "source": [
    "Vps = '())(()'\n",
    "\n",
    "stack_list = []\n",
    "cnt = 0 \n",
    "for j in Vps:\n",
    "    if j == '(':\n",
    "        stack_list.append(j)\n",
    "    else :\n",
    "        if not stack_list :\n",
    "            break\n",
    "        else :\n",
    "            stack_list.pop()\n",
    "    cnt += 1\n",
    "\n",
    "if not stack_list and cnt == len(Vps):\n",
    "    print('YES')\n",
    "else:\n",
    "    print('NO')"
   ]
  },
  {
   "cell_type": "code",
   "execution_count": 15,
   "metadata": {},
   "outputs": [
    {
     "data": {
      "text/plain": [
       "0"
      ]
     },
     "execution_count": 15,
     "metadata": {},
     "output_type": "execute_result"
    }
   ],
   "source": [
    "a = []\n",
    "len(a)"
   ]
  },
  {
   "cell_type": "code",
   "execution_count": null,
   "metadata": {},
   "outputs": [],
   "source": [
    "Vps_list = []\n",
    "i = 1\n",
    "while i <= T:\n",
    "    Vps_list.append(str(input()))\n",
    "    i += 1\n",
    "\n",
    "for Vps in Vps_list:\n",
    "    if len(Vps) % 2 :\n",
    "        print('NO')\n",
    "    else:\n",
    "        stack_list = []\n",
    "        for j in Vps:\n",
    "            if j == '(':\n",
    "                stack_list.append(j)\n",
    "            elif j == ')':\n",
    "                if len(stack_list) > 0 :\n",
    "                    stack_list.pop()\n",
    "                else : \n",
    "                    print('NO')\n",
    "        if len(stack_list) != 0 :\n",
    "            print('NO')\n",
    "        else : print('YES')\n"
   ]
  }
 ],
 "metadata": {
  "interpreter": {
   "hash": "d2d289a5cba81d2d49c78b4d3527a0c0f9c280771a197440df49b1bcccb52720"
  },
  "kernelspec": {
   "display_name": "Python 3.9.9 64-bit",
   "language": "python",
   "name": "python3"
  },
  "language_info": {
   "codemirror_mode": {
    "name": "ipython",
    "version": 3
   },
   "file_extension": ".py",
   "mimetype": "text/x-python",
   "name": "python",
   "nbconvert_exporter": "python",
   "pygments_lexer": "ipython3",
   "version": "3.9.9"
  },
  "orig_nbformat": 4
 },
 "nbformat": 4,
 "nbformat_minor": 2
}
